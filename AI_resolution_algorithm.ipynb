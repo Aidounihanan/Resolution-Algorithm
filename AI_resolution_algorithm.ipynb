{
  "nbformat": 4,
  "nbformat_minor": 0,
  "metadata": {
    "colab": {
      "provenance": [],
      "authorship_tag": "ABX9TyN4AwB3SxUVccY8sWjtxKSn",
      "include_colab_link": true
    },
    "kernelspec": {
      "name": "python3",
      "display_name": "Python 3"
    },
    "language_info": {
      "name": "python"
    }
  },
  "cells": [
    {
      "cell_type": "markdown",
      "metadata": {
        "id": "view-in-github",
        "colab_type": "text"
      },
      "source": [
        "<a href=\"https://colab.research.google.com/github/Aidounihanan/Resolution-Algorithm/blob/main/AI_resolution_algorithm.ipynb\" target=\"_parent\"><img src=\"https://colab.research.google.com/assets/colab-badge.svg\" alt=\"Open In Colab\"/></a>"
      ]
    },
    {
      "cell_type": "code",
      "source": [
        "from sympy import symbols, Not, to_cnf\n",
        "import re\n",
        "from sympy import sympify\n",
        "\n",
        "def negation(formule):\n",
        "    return formule.replace('', '~').replace('~', '').replace('^', '|').replace('v', '&').replace('->', '>>').replace('<=>', '<>')\n",
        "\n",
        "#Convertit la formule en une expression utilisable par Sympy\n",
        "def convertir_formule(formule):\n",
        "    formule = formule.replace('~', '~').replace('v', '|').replace('^', '&').replace('->', '>>').replace('<=>', '<>')\n",
        "    return formule\n",
        "\n",
        "#Convertit la formule en CNF et renvoie un ensemble de clauses\n",
        "def obtenir_clauses(formule):\n",
        "    formule_sympy = convertir_formule(formule)\n",
        "    symboles = re.findall(r'\\b[A-Z]\\b', formule_sympy)\n",
        "    symboles = list(set(symboles))\n",
        "    symboles = symbols(symboles)\n",
        "\n",
        "    negation_f = negation(formule)\n",
        "\n",
        "    cnf_formule = to_cnf(negation_f)\n",
        "\n",
        "    return cnf_formule.args\n",
        "\n",
        "#Vérifie si la clause est vide\n",
        "def est_clause_vide(clause):\n",
        "    return clause != []\n",
        "\n",
        "def simplification(clause1, clause2):\n",
        "    resolvante = []\n",
        "    for literal in clause1:\n",
        "        if Not(literal) in clause2:\n",
        "            clause2.remove(Not(literal))\n",
        "        else:\n",
        "            resolvante.append(literal)\n",
        "    for literal in clause2:\n",
        "        if Not(literal) in clause1:\n",
        "            clause1.remove(Not(literal))\n",
        "        else:\n",
        "            resolvante.append(literal)\n",
        "    return resolvante if resolvante else None\n",
        "\n",
        "#Cherche des clauses résolvantes et les ajoute à la liste des clauses\n",
        "def chercher_clauses_resolvantes(clauses):\n",
        "    nouvelles_clauses = []\n",
        "    for i in range(len(clauses)):\n",
        "        for j in range(i+1, len(clauses)):\n",
        "            clause1 = clauses[i]\n",
        "            clause2 = clauses[j]\n",
        "            resolvante = simplification(clause1, clause2)\n",
        "            if resolvante is not None and resolvante not in nouvelles_clauses:\n",
        "                nouvelles_clauses.append(resolvante)\n",
        "    return clauses + nouvelles_clauses\n",
        "\n",
        "#Vérifie si la formule est valide en utilisant l'algorithme de résolution\n",
        "def est_formule_valide(formule):\n",
        "    clauses = obtenir_clauses(formule)\n",
        "\n",
        "    while not est_clause_vide(clauses):\n",
        "        nouvelles_clauses = chercher_clauses_resolvantes(clauses)\n",
        "        if clauses == nouvelles_clauses:\n",
        "            return False\n",
        "        clauses = nouvelles_clauses\n",
        "\n",
        "    return True\n",
        "\n",
        "formule_utilisateur = input(\"Entrez une formule propositionnelle : \")\n",
        "\n",
        "if est_formule_valide(formule_utilisateur):\n",
        "    print(\"La formule est valide.\")\n",
        "else:\n",
        "    print(\"La formule n'est pas valide.\")"
      ],
      "metadata": {
        "colab": {
          "base_uri": "https://localhost:8080/"
        },
        "id": "o4qgFpOXxeVW",
        "outputId": "07cebfba-83ba-4999-d587-197f0dc09f24"
      },
      "execution_count": 1,
      "outputs": [
        {
          "output_type": "stream",
          "name": "stdout",
          "text": [
            "Entrez une formule propositionnelle : A | ~A\n",
            "La formule est valide.\n"
          ]
        }
      ]
    },
    {
      "cell_type": "code",
      "source": [],
      "metadata": {
        "id": "UTVE3nlQyYPX"
      },
      "execution_count": null,
      "outputs": []
    }
  ]
}